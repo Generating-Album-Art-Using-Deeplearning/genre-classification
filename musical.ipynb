{
 "cells": [
  {
   "cell_type": "code",
   "execution_count": 13,
   "metadata": {},
   "outputs": [],
   "source": [
    "import torch\n",
    "import torch.nn as nn\n",
    "import torch.nn.functional as F\n",
    "\n",
    "\n",
    "class W2VModel(nn.Module):\n",
    "    def __init__(self, input_dim, hidden_dim, stride, filter_size, padding):\n",
    "        super(W2VModel, self).__init__()\n",
    "        assert (\n",
    "                len(stride) == len(filter_size) == len(padding)\n",
    "        ), \"Inconsistent length of strides, filter sizes and padding\"\n",
    "\n",
    "        self.model = nn.Sequential()\n",
    "        for index, (stride, filter_size, padding) in enumerate(zip(stride, filter_size, padding)):\n",
    "            self.model.add_module(\n",
    "                \"model_layer_{}\".format(index),\n",
    "                nn.Sequential(\n",
    "                    nn.Conv1d(in_channels=input_dim, out_channels=hidden_dim,\n",
    "                              kernel_size=filter_size, stride=stride, padding=padding),\n",
    "                    nn.BatchNorm1d(hidden_dim),\n",
    "                    nn.ReLU(),\n",
    "                )\n",
    "            )\n",
    "            input_dim = hidden_dim\n",
    "\n",
    "        self.model_2 = nn.Sequential()\n",
    "        self.model_2.add_module(\n",
    "            \"fc_layer\",\n",
    "            nn.Sequential(\n",
    "                nn.Linear(513*13*8, 500),\n",
    "                nn.ReLU(),\n",
    "                nn.Linear(500, 255),\n",
    "                nn.ReLU()\n",
    "            )\n",
    "        )\n",
    "    \n",
    "    def forward(self, x):\n",
    "        x = self.model(x)\n",
    "        x = x.view(1,-1)\n",
    "        x = self.model_2(x)\n",
    "        x = F.log_softmax(x, dim=1)\n",
    "        return x"
   ]
  },
  {
   "cell_type": "code",
   "execution_count": 14,
   "metadata": {},
   "outputs": [
    {
     "name": "stdout",
     "output_type": "stream",
     "text": [
      "(48, 1876)\n"
     ]
    }
   ],
   "source": [
    "import numpy as np\n",
    "\n",
    "file_path = './data/702000.npy'\n",
    "data = np.load(file_path)\n",
    "print(data.shape)"
   ]
  },
  {
   "cell_type": "code",
   "execution_count": 15,
   "metadata": {},
   "outputs": [],
   "source": [
    "model = W2VModel(\n",
    "    input_dim = 48,\n",
    "    hidden_dim=513,\n",
    "    stride=[5, 4, 2, 2, 2],\n",
    "    filter_size=[10, 8, 4, 2, 2],\n",
    "    padding=[2, 2, 2, 2, 1])"
   ]
  },
  {
   "cell_type": "code",
   "execution_count": 16,
   "metadata": {},
   "outputs": [
    {
     "name": "stdout",
     "output_type": "stream",
     "text": [
      "torch.Size([8, 48, 1876])\n",
      "torch.Size([1, 255])\n"
     ]
    }
   ],
   "source": [
    "sample_data = torch.randn(8, 48, 1876)\n",
    "print(sample_data.shape)\n",
    "\n",
    "output = model(sample_data)\n",
    "print(output.size())"
   ]
  },
  {
   "cell_type": "code",
   "execution_count": 17,
   "metadata": {},
   "outputs": [
    {
     "name": "stdout",
     "output_type": "stream",
     "text": [
      "tensor([[-5.6122, -5.5175, -5.5771, -5.5134, -5.6122, -5.6122, -5.6122, -5.6122,\n",
      "         -5.5892, -5.4518, -5.6122, -5.4463, -5.4534, -5.4743, -5.4908, -5.6122,\n",
      "         -5.6122, -5.4778, -5.6122, -5.5480, -5.2982, -5.6122, -5.6122, -5.6122,\n",
      "         -5.2897, -5.6122, -5.3956, -5.6122, -5.4392, -5.3732, -5.6122, -5.6122,\n",
      "         -5.3615, -5.6122, -5.6122, -5.6122, -5.3617, -5.6122, -5.4895, -5.6122,\n",
      "         -5.6122, -5.2595, -5.6122, -5.6122, -5.4422, -5.4061, -5.6122, -5.6122,\n",
      "         -5.5688, -5.4464, -5.5859, -5.6122, -5.4892, -5.5544, -5.6122, -5.5703,\n",
      "         -5.6122, -5.6122, -5.4526, -5.6122, -5.4790, -5.6122, -5.6122, -5.6122,\n",
      "         -5.6122, -5.6122, -5.6122, -5.5255, -5.6122, -5.6122, -5.3515, -5.6122,\n",
      "         -5.6122, -5.6122, -5.5390, -5.6122, -5.6122, -5.3595, -5.6122, -5.6122,\n",
      "         -5.6122, -5.6122, -5.6122, -5.6122, -5.5014, -5.3082, -5.3406, -5.4962,\n",
      "         -5.3987, -5.5066, -5.6122, -5.4028, -5.4336, -5.5659, -5.5460, -5.5228,\n",
      "         -5.6122, -5.5860, -5.6122, -5.6122, -5.6068, -5.6122, -5.5655, -5.5303,\n",
      "         -5.6122, -5.6122, -5.6122, -5.6122, -5.5248, -5.3227, -5.6122, -5.1744,\n",
      "         -5.6113, -5.6122, -5.6122, -5.6122, -5.5721, -5.6122, -5.1902, -5.4331,\n",
      "         -5.4185, -5.6122, -5.4143, -5.6122, -5.6122, -5.4414, -5.4190, -5.6122,\n",
      "         -5.5852, -5.5999, -5.6122, -5.5621, -5.6122, -5.5614, -5.6122, -5.6122,\n",
      "         -5.3619, -5.5577, -5.6122, -5.5149, -5.6122, -5.6122, -5.6120, -5.6122,\n",
      "         -5.6122, -5.6122, -5.4574, -5.5713, -5.3958, -5.6122, -5.6122, -5.6006,\n",
      "         -5.6044, -5.5848, -5.3098, -5.6122, -5.6122, -5.5458, -5.6079, -5.5564,\n",
      "         -5.6122, -5.5694, -5.3814, -5.6122, -5.6122, -5.5410, -5.3152, -5.6122,\n",
      "         -5.6122, -5.3115, -5.3794, -5.5579, -5.1500, -5.6122, -5.6122, -5.4921,\n",
      "         -5.6122, -5.4060, -5.6122, -5.6122, -5.6122, -5.6122, -5.6122, -5.6122,\n",
      "         -5.6122, -5.6122, -5.6122, -5.4891, -5.3167, -5.4746, -5.4650, -5.6122,\n",
      "         -5.5605, -5.6122, -5.3287, -5.5655, -5.6122, -5.6122, -5.6122, -5.6122,\n",
      "         -5.6122, -5.4727, -5.6001, -5.4906, -5.6122, -5.6122, -5.5859, -5.6122,\n",
      "         -5.2616, -5.6122, -5.5626, -5.5844, -5.6122, -5.3414, -5.6122, -5.5599,\n",
      "         -5.6032, -5.6122, -5.6122, -5.6122, -5.5792, -5.6122, -5.6122, -5.6122,\n",
      "         -5.6122, -5.6122, -5.6122, -5.5817, -5.6122, -5.6122, -5.6122, -5.4482,\n",
      "         -5.6122, -5.6122, -5.6122, -5.6122, -5.6122, -5.5955, -5.3039, -5.3786,\n",
      "         -5.5098, -5.5425, -5.6122, -5.4965, -5.6122, -5.6122, -5.5984, -5.4668,\n",
      "         -5.6122, -5.6122, -5.2940, -5.5480, -5.4285, -5.6122, -5.6122]],\n",
      "       grad_fn=<LogSoftmaxBackward0>)\n"
     ]
    }
   ],
   "source": [
    "print(output)"
   ]
  }
 ],
 "metadata": {
  "interpreter": {
   "hash": "916dbcbb3f70747c44a77c7bcd40155683ae19c65e1c03b4aa3499c5328201f1"
  },
  "kernelspec": {
   "display_name": "Python 3.8.10 64-bit",
   "language": "python",
   "name": "python3"
  },
  "language_info": {
   "codemirror_mode": {
    "name": "ipython",
    "version": 3
   },
   "file_extension": ".py",
   "mimetype": "text/x-python",
   "name": "python",
   "nbconvert_exporter": "python",
   "pygments_lexer": "ipython3",
   "version": "3.8.10"
  }
 },
 "nbformat": 4,
 "nbformat_minor": 4
}
